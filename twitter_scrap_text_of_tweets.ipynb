{
 "metadata": {
  "language_info": {
   "codemirror_mode": {
    "name": "ipython",
    "version": 3
   },
   "file_extension": ".py",
   "mimetype": "text/x-python",
   "name": "python",
   "nbconvert_exporter": "python",
   "pygments_lexer": "ipython3",
   "version": "3.7.4-final"
  },
  "orig_nbformat": 2,
  "kernelspec": {
   "name": "python3",
   "display_name": "Python 3",
   "language": "python"
  }
 },
 "nbformat": 4,
 "nbformat_minor": 2,
 "cells": [
  {
   "cell_type": "code",
   "execution_count": 5,
   "metadata": {},
   "outputs": [],
   "source": [
    "from selenium import webdriver\n",
    "from selenium.webdriver.common.keys import Keys\n",
    "import pandas as pd\n",
    "from collections import Counter\n"
   ]
  },
  {
   "cell_type": "code",
   "execution_count": 6,
   "metadata": {},
   "outputs": [],
   "source": [
    "browser_path = r\"C:\\Users\\mathi\\Desktop\\Progra\\appli\\chromedriver.exe\""
   ]
  },
  {
   "cell_type": "code",
   "execution_count": 7,
   "metadata": {},
   "outputs": [],
   "source": [
    "from time import sleep\n",
    "import random\n",
    "import time\n",
    "\n",
    "def sleep_for(opt1, opt2):\n",
    "    time_for = random.uniform(opt1, opt2)\n",
    "    time_for_int = int(round(time_for))\n",
    "    sleep(abs(time_for_int - time_for))\n",
    "    for i in range(time_for_int, 0, -1):\n",
    "        sleep(1)"
   ]
  },
  {
   "cell_type": "code",
   "execution_count": 20,
   "metadata": {},
   "outputs": [],
   "source": [
    "list_time = [\n",
    "    [\"2020-09-30\", \"2020-10-05\"],\n",
    "    [\"2020-10-05\", \"2020-10-11\"],\n",
    "    [\"2020-10-11\", \"2020-10-18\"],\n",
    "    [\"2020-10-18\", \"2020-10-25\"],\n",
    "]\n"
   ]
  },
  {
   "cell_type": "code",
   "execution_count": 21,
   "metadata": {},
   "outputs": [
    {
     "output_type": "stream",
     "name": "stdout",
     "text": [
      "0.25\n",
      "0.5\n",
      "0.75\n",
      "0.25\n",
      "0.5\n",
      "0.75\n",
      "0.25\n",
      "0.5\n",
      "0.75\n",
      "0.25\n",
      "0.5\n",
      "0.75\n",
      "0.25\n",
      "0.25\n",
      "0.5\n",
      "0.25\n",
      "0.5\n",
      "0.75\n",
      "0.25\n",
      "0.5\n",
      "0.75\n",
      "0.25\n",
      "0.5\n",
      "0.75\n",
      "0.25\n",
      "0.5\n",
      "0.75\n",
      "0.25\n",
      "0.5\n",
      "0.75\n",
      "0.25\n",
      "0.5\n",
      "0.75\n",
      "0.25\n",
      "0.5\n",
      "0.75\n"
     ]
    }
   ],
   "source": [
    "k = 0\n",
    "for starting_time, ending_time in list_time:\n",
    "\n",
    "    # how many times should the browser scroll down\n",
    "    scroll_down_num = 200\n",
    "    list_text = []\n",
    "    j=0\n",
    "\n",
    "    # loop through your list of urls\n",
    "    while starting_time < ending_time:\n",
    "\n",
    "        driver = webdriver.Chrome(executable_path=browser_path)\n",
    "        url = \"https://twitter.com/search?q=%23Uyghurs%20until%3A\" + ending_time + \"&src=typed_query&f=live\"\n",
    "        driver.get(url)\n",
    "        sleep_for(10, 15)  # sleep a while\n",
    "\n",
    "\n",
    "\n",
    "\n",
    "        # scroll x number of times\n",
    "        for i in range(1, scroll_down_num):\n",
    "\n",
    "            # scroll down\n",
    "            driver.find_element_by_xpath('//body').send_keys(Keys.END)\n",
    "            sleep_for(1, 3)\n",
    "\n",
    "\n",
    "            post_elem = driver.find_elements_by_xpath(\"//div/div/div/div/div/div[@lang='en']\")\n",
    "            \n",
    "\n",
    "            for post_text in post_elem:\n",
    "                try:\n",
    "                    text = post_text.text\n",
    "                except:\n",
    "                    j += 1\n",
    "                if not text in list_text:\n",
    "                    list_text.append(text)\n",
    "                    start = time.time()\n",
    "            post_times = driver.find_elements_by_xpath(\"//div/div/div/div/div/div/div/a/time\")\n",
    "            if len(post_times) != 0:\n",
    "                last_time = post_times[-1].get_attribute(\"datetime\")\n",
    "                ending_time = last_time[:13] + \"%3A\" + last_time[14:16] + \"%3A\" + last_time[17:]\n",
    "\n",
    "            if starting_time > ending_time:\n",
    "                break\n",
    "\n",
    "            if i % 50 == 0:\n",
    "                print(i/scroll_down_num)\n",
    "\n",
    "\n",
    "\n",
    "        \n",
    "        with open(\"stop.txt\", \"r\") as f:\n",
    "            text_stop = f.read()\n",
    "        if text_stop == \"stop\":\n",
    "            text_stop = \"\"\n",
    "            break\n",
    "        driver.close()\n",
    "    df = pd.DataFrame(list_text, columns=[\"text\"])\n",
    "    df.to_csv(\"text_tweets_h_Uyghurs\" + list_time[k][0] + \"_\" + list_time[k][1] + \".csv\")\n",
    "\n",
    "    k += 1"
   ]
  },
  {
   "cell_type": "code",
   "execution_count": null,
   "metadata": {},
   "outputs": [],
   "source": []
  }
 ]
}