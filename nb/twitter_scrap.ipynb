{
 "metadata": {
  "language_info": {
   "codemirror_mode": {
    "name": "ipython",
    "version": 3
   },
   "file_extension": ".py",
   "mimetype": "text/x-python",
   "name": "python",
   "nbconvert_exporter": "python",
   "pygments_lexer": "ipython3",
   "version": "3.7.4-final"
  },
  "orig_nbformat": 2,
  "kernelspec": {
   "name": "python3",
   "display_name": "Python 3",
   "language": "python"
  }
 },
 "nbformat": 4,
 "nbformat_minor": 2,
 "cells": [
  {
   "cell_type": "code",
   "execution_count": 1,
   "metadata": {},
   "outputs": [],
   "source": [
    "from selenium import webdriver\n",
    "from selenium.webdriver.common.keys import Keys\n",
    "import pandas as pd\n",
    "from collections import Counter\n"
   ]
  },
  {
   "cell_type": "code",
   "execution_count": 3,
   "metadata": {},
   "outputs": [],
   "source": [
    "browser_path = r\"C:\\Users\\mathi\\Desktop\\Progra\\appli\\chromedriver.exe\"\n",
    "# setting the chromedriver path and initializing driver\n",
    "driver = webdriver.Chrome(executable_path=browser_path)\n",
    "# create master df to append to\n",
    "master_df = pd.DataFrame()"
   ]
  },
  {
   "cell_type": "code",
   "execution_count": 2,
   "metadata": {},
   "outputs": [],
   "source": [
    "from time import sleep\n",
    "import random\n",
    "import time\n",
    "\n",
    "def sleep_for(opt1, opt2):\n",
    "    time_for = random.uniform(opt1, opt2)\n",
    "    time_for_int = int(round(time_for))\n",
    "    sleep(abs(time_for_int - time_for))\n",
    "    for i in range(time_for_int, 0, -1):\n",
    "        sleep(1)"
   ]
  },
  {
   "cell_type": "code",
   "execution_count": 3,
   "metadata": {},
   "outputs": [],
   "source": [
    "#from progressbar import ProgressBar\n",
    "#pbar = ProgressBar()\n",
    "\n",
    "new_time_of_the_request = \"2020-11-01\"\n",
    "time_of_the_request = \"\"\n",
    "\n",
    "\n",
    "# how many times should the browser scroll down\n",
    "scroll_down_num = 200\n",
    "list_times = []\n",
    "j=0"
   ]
  },
  {
   "cell_type": "code",
   "execution_count": 6,
   "metadata": {},
   "outputs": [
    {
     "output_type": "stream",
     "name": "stdout",
     "text": [
      "0.25\n",
      "0.5\n",
      "0.75\n",
      "0.25\n",
      "0.5\n",
      "0.75\n",
      "0.25\n",
      "0.5\n",
      "0.75\n",
      "0.25\n",
      "0.5\n",
      "0.75\n",
      "0.25\n",
      "0.5\n",
      "0.75\n"
     ]
    }
   ],
   "source": [
    "\n",
    "# loop through your list of urls\n",
    "while time_of_the_request != new_time_of_the_request:\n",
    "    driver = webdriver.Chrome(executable_path=browser_path)\n",
    "    time_of_the_request = new_time_of_the_request\n",
    "    url = \"https://twitter.com/search?q=%23ouighours%20until%3A\" + time_of_the_request + \"&src=typed_query&f=live\"\n",
    "    driver.get(url)\n",
    "    sleep_for(10, 15)  # sleep a while\n",
    "\n",
    "\n",
    "\n",
    "\n",
    "    # scroll x number of times\n",
    "    for i in range(1, scroll_down_num):\n",
    "\n",
    "        # scroll down\n",
    "        driver.find_element_by_xpath('//body').send_keys(Keys.END)\n",
    "        sleep_for(1, 3)\n",
    "\n",
    "\n",
    "        post_elem = driver.find_elements_by_xpath(\"//div/div/div/div/div/div/div/a/time\")\n",
    "        \n",
    "\n",
    "        for post_time in post_elem:\n",
    "            try:\n",
    "                time_t = post_time.get_attribute(\"datetime\")\n",
    "            except:\n",
    "                j += 1\n",
    "            if not time_t in list_times:\n",
    "                list_times.append(time_t)\n",
    "                start = time.time()\n",
    "\n",
    "        if i % 50 == 0:\n",
    "            print(i/scroll_down_num)\n",
    "\n",
    "    new_time_of_the_request = list_times[-1][:13] + \"%3A\" + list_times[-1][14:16] + \"%3A\" + list_times[-1][17:]\n",
    "    driver.close()\n",
    "    if int(new_time_of_the_request[:4]) < 2020:\n",
    "        break\n",
    "\n",
    "\n",
    "    \n",
    "    with open(\"stop.txt\", \"r\") as f:\n",
    "        text = f.read()\n",
    "    if text == \"stop\":\n",
    "        text = \"\"\n",
    "        break"
   ]
  },
  {
   "cell_type": "code",
   "execution_count": 18,
   "metadata": {},
   "outputs": [],
   "source": [
    "date = [time_t[:13] for time_t in list_times]\n",
    "nb_tweets = Counter(date)\n",
    "df = pd.DataFrame(list(nb_tweets.items()), columns = [\"date\", \"value\"]) \n",
    "df.to_csv(\"nb_tweet_h_ouighours.csv\")"
   ]
  },
  {
   "source": [
    "date_1 = [time_t[:16] for time_t in list_times]\n",
    "nb_tweets = Counter(date_1)\n",
    "df_1 = pd.DataFrame(list(nb_tweets.items()), columns = [\"date\", \"value\"]) \n",
    "df_1.to_csv(\"nb_tweet_h_ouighours_par_min.csv\")"
   ],
   "cell_type": "code",
   "metadata": {},
   "execution_count": 17,
   "outputs": []
  },
  {
   "cell_type": "code",
   "execution_count": null,
   "metadata": {},
   "outputs": [],
   "source": []
  }
 ]
}