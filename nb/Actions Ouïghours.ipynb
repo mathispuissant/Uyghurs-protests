{
 "cells": [
  {
   "cell_type": "code",
   "execution_count": 1,
   "metadata": {},
   "outputs": [
    {
     "name": "stdout",
     "output_type": "stream",
     "text": [
      "Requirement already satisfied: alpha_vantage in c:\\users\\diana\\anaconda3\\lib\\site-packages (2.2.0)\n",
      "Requirement already satisfied: aiohttp in c:\\users\\diana\\anaconda3\\lib\\site-packages (from alpha_vantage) (3.7.2)\n",
      "Requirement already satisfied: requests in c:\\users\\diana\\anaconda3\\lib\\site-packages (from alpha_vantage) (2.22.0)\n",
      "Requirement already satisfied: typing-extensions>=3.6.5 in c:\\users\\diana\\anaconda3\\lib\\site-packages (from aiohttp->alpha_vantage) (3.7.4.3)\n",
      "Requirement already satisfied: yarl<2.0,>=1.0 in c:\\users\\diana\\anaconda3\\lib\\site-packages (from aiohttp->alpha_vantage) (1.6.2)\n",
      "Requirement already satisfied: chardet<4.0,>=2.0 in c:\\users\\diana\\anaconda3\\lib\\site-packages (from aiohttp->alpha_vantage) (3.0.4)\n",
      "Requirement already satisfied: attrs>=17.3.0 in c:\\users\\diana\\anaconda3\\lib\\site-packages (from aiohttp->alpha_vantage) (19.2.0)\n",
      "Requirement already satisfied: async-timeout<4.0,>=3.0 in c:\\users\\diana\\anaconda3\\lib\\site-packages (from aiohttp->alpha_vantage) (3.0.1)\n",
      "Requirement already satisfied: multidict<7.0,>=4.5 in c:\\users\\diana\\anaconda3\\lib\\site-packages (from aiohttp->alpha_vantage) (5.0.0)\n",
      "Requirement already satisfied: urllib3!=1.25.0,!=1.25.1,<1.26,>=1.21.1 in c:\\users\\diana\\anaconda3\\lib\\site-packages (from requests->alpha_vantage) (1.24.2)\n",
      "Requirement already satisfied: idna<2.9,>=2.5 in c:\\users\\diana\\anaconda3\\lib\\site-packages (from requests->alpha_vantage) (2.8)\n",
      "Requirement already satisfied: certifi>=2017.4.17 in c:\\users\\diana\\anaconda3\\lib\\site-packages (from requests->alpha_vantage) (2019.9.11)\n",
      "Note: you may need to restart the kernel to use updated packages.\n"
     ]
    }
   ],
   "source": [
    "pip install alpha_vantage"
   ]
  },
  {
   "cell_type": "code",
   "execution_count": 2,
   "metadata": {},
   "outputs": [],
   "source": [
    "from alpha_vantage.timeseries import TimeSeries"
   ]
  },
  {
   "cell_type": "code",
   "execution_count": 1,
   "metadata": {},
   "outputs": [],
   "source": [
    "from alpha_vantage.timeseries import TimeSeries\n",
    "\n",
    "ts = TimeSeries(key='XZTFR53W0A1VS35N', output_format='pandas', indexing_type='integer')\n",
    "\n",
    "data, meta_data = ts.get_intraday('AAPL', interval='60min', outputsize='full')"
   ]
  },
  {
   "cell_type": "code",
   "execution_count": 2,
   "metadata": {},
   "outputs": [
    {
     "data": {
      "text/html": [
       "<div>\n",
       "<style scoped>\n",
       "    .dataframe tbody tr th:only-of-type {\n",
       "        vertical-align: middle;\n",
       "    }\n",
       "\n",
       "    .dataframe tbody tr th {\n",
       "        vertical-align: top;\n",
       "    }\n",
       "\n",
       "    .dataframe thead th {\n",
       "        text-align: right;\n",
       "    }\n",
       "</style>\n",
       "<table border=\"1\" class=\"dataframe\">\n",
       "  <thead>\n",
       "    <tr style=\"text-align: right;\">\n",
       "      <th></th>\n",
       "      <th>index</th>\n",
       "      <th>1. open</th>\n",
       "      <th>2. high</th>\n",
       "      <th>3. low</th>\n",
       "      <th>4. close</th>\n",
       "      <th>5. volume</th>\n",
       "    </tr>\n",
       "    <tr>\n",
       "      <th>index</th>\n",
       "      <th></th>\n",
       "      <th></th>\n",
       "      <th></th>\n",
       "      <th></th>\n",
       "      <th></th>\n",
       "      <th></th>\n",
       "    </tr>\n",
       "  </thead>\n",
       "  <tbody>\n",
       "    <tr>\n",
       "      <td>0</td>\n",
       "      <td>2020-12-11 20:00:00</td>\n",
       "      <td>122.1700</td>\n",
       "      <td>122.2800</td>\n",
       "      <td>122.1500</td>\n",
       "      <td>122.2800</td>\n",
       "      <td>51696.0</td>\n",
       "    </tr>\n",
       "    <tr>\n",
       "      <td>1</td>\n",
       "      <td>2020-12-11 19:00:00</td>\n",
       "      <td>122.1900</td>\n",
       "      <td>122.2900</td>\n",
       "      <td>122.1500</td>\n",
       "      <td>122.1500</td>\n",
       "      <td>32236.0</td>\n",
       "    </tr>\n",
       "    <tr>\n",
       "      <td>2</td>\n",
       "      <td>2020-12-11 18:00:00</td>\n",
       "      <td>122.2800</td>\n",
       "      <td>122.4100</td>\n",
       "      <td>122.2000</td>\n",
       "      <td>122.2100</td>\n",
       "      <td>58902.0</td>\n",
       "    </tr>\n",
       "    <tr>\n",
       "      <td>3</td>\n",
       "      <td>2020-12-11 17:00:00</td>\n",
       "      <td>122.4100</td>\n",
       "      <td>122.4900</td>\n",
       "      <td>121.7257</td>\n",
       "      <td>122.2998</td>\n",
       "      <td>5410760.0</td>\n",
       "    </tr>\n",
       "    <tr>\n",
       "      <td>4</td>\n",
       "      <td>2020-12-11 16:00:00</td>\n",
       "      <td>121.9700</td>\n",
       "      <td>122.5000</td>\n",
       "      <td>121.7300</td>\n",
       "      <td>122.4900</td>\n",
       "      <td>13164869.0</td>\n",
       "    </tr>\n",
       "    <tr>\n",
       "      <td>...</td>\n",
       "      <td>...</td>\n",
       "      <td>...</td>\n",
       "      <td>...</td>\n",
       "      <td>...</td>\n",
       "      <td>...</td>\n",
       "      <td>...</td>\n",
       "    </tr>\n",
       "    <tr>\n",
       "      <td>614</td>\n",
       "      <td>2020-10-19 09:00:00</td>\n",
       "      <td>119.8430</td>\n",
       "      <td>120.2922</td>\n",
       "      <td>119.5735</td>\n",
       "      <td>119.6634</td>\n",
       "      <td>877870.0</td>\n",
       "    </tr>\n",
       "    <tr>\n",
       "      <td>615</td>\n",
       "      <td>2020-10-19 08:00:00</td>\n",
       "      <td>120.3022</td>\n",
       "      <td>120.4320</td>\n",
       "      <td>119.6933</td>\n",
       "      <td>119.8230</td>\n",
       "      <td>513494.0</td>\n",
       "    </tr>\n",
       "    <tr>\n",
       "      <td>616</td>\n",
       "      <td>2020-10-19 07:00:00</td>\n",
       "      <td>120.3222</td>\n",
       "      <td>120.4220</td>\n",
       "      <td>119.8730</td>\n",
       "      <td>120.3921</td>\n",
       "      <td>45465.0</td>\n",
       "    </tr>\n",
       "    <tr>\n",
       "      <td>617</td>\n",
       "      <td>2020-10-19 06:00:00</td>\n",
       "      <td>120.5917</td>\n",
       "      <td>120.7514</td>\n",
       "      <td>120.2922</td>\n",
       "      <td>120.4919</td>\n",
       "      <td>46408.0</td>\n",
       "    </tr>\n",
       "    <tr>\n",
       "      <td>618</td>\n",
       "      <td>2020-10-19 05:00:00</td>\n",
       "      <td>119.8929</td>\n",
       "      <td>120.8413</td>\n",
       "      <td>119.5934</td>\n",
       "      <td>120.5917</td>\n",
       "      <td>141187.0</td>\n",
       "    </tr>\n",
       "  </tbody>\n",
       "</table>\n",
       "<p>619 rows × 6 columns</p>\n",
       "</div>"
      ],
      "text/plain": [
       "                     index   1. open   2. high    3. low  4. close   5. volume\n",
       "index                                                                         \n",
       "0      2020-12-11 20:00:00  122.1700  122.2800  122.1500  122.2800     51696.0\n",
       "1      2020-12-11 19:00:00  122.1900  122.2900  122.1500  122.1500     32236.0\n",
       "2      2020-12-11 18:00:00  122.2800  122.4100  122.2000  122.2100     58902.0\n",
       "3      2020-12-11 17:00:00  122.4100  122.4900  121.7257  122.2998   5410760.0\n",
       "4      2020-12-11 16:00:00  121.9700  122.5000  121.7300  122.4900  13164869.0\n",
       "...                    ...       ...       ...       ...       ...         ...\n",
       "614    2020-10-19 09:00:00  119.8430  120.2922  119.5735  119.6634    877870.0\n",
       "615    2020-10-19 08:00:00  120.3022  120.4320  119.6933  119.8230    513494.0\n",
       "616    2020-10-19 07:00:00  120.3222  120.4220  119.8730  120.3921     45465.0\n",
       "617    2020-10-19 06:00:00  120.5917  120.7514  120.2922  120.4919     46408.0\n",
       "618    2020-10-19 05:00:00  119.8929  120.8413  119.5934  120.5917    141187.0\n",
       "\n",
       "[619 rows x 6 columns]"
      ]
     },
     "execution_count": 2,
     "metadata": {},
     "output_type": "execute_result"
    }
   ],
   "source": [
    "data"
   ]
  },
  {
   "cell_type": "code",
   "execution_count": 72,
   "metadata": {},
   "outputs": [],
   "source": [
    "import csv\n",
    "import pandas as pd"
   ]
  },
  {
   "cell_type": "code",
   "execution_count": 73,
   "metadata": {},
   "outputs": [],
   "source": [
    "data.to_csv('Apple.csv',index=False)"
   ]
  },
  {
   "cell_type": "code",
   "execution_count": null,
   "metadata": {},
   "outputs": [],
   "source": []
  }
 ],
 "metadata": {
  "kernelspec": {
   "display_name": "Python 3",
   "language": "python",
   "name": "python3"
  },
  "language_info": {
   "codemirror_mode": {
    "name": "ipython",
    "version": 3
   },
   "file_extension": ".py",
   "mimetype": "text/x-python",
   "name": "python",
   "nbconvert_exporter": "python",
   "pygments_lexer": "ipython3",
   "version": "3.7.4"
  }
 },
 "nbformat": 4,
 "nbformat_minor": 2
}
